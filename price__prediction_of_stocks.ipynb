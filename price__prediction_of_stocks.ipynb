{
  "nbformat": 4,
  "nbformat_minor": 0,
  "metadata": {
    "colab": {
      "provenance": []
    },
    "kernelspec": {
      "name": "python3",
      "display_name": "Python 3"
    },
    "language_info": {
      "name": "python"
    }
  },
  "cells": [
    {
      "cell_type": "code",
      "execution_count": 13,
      "metadata": {
        "id": "hW6yXcpb5Ld6"
      },
      "outputs": [],
      "source": [
        "import numpy as np\n",
        "from scipy.stats import norm\n",
        "import math\n",
        "import time"
      ]
    },
    {
      "cell_type": "code",
      "source": [
        "class OptionPricing :   #create a option price class\n",
        "  def __init__ (self,S0,SP,T,rf,sigma,iteration):\n",
        "    self.S0=S0#S0 is the initial stock price\n",
        "    self.SP=SP  #SP is the strike price\n",
        "    self.T=T  # time to maturity\n",
        "    self.rf=rf #risk free interest rate\n",
        "    self.sigma=sigma # volatality\n",
        "    self.iteration=iteration # more iteration more accuracy and it represents number of samples to generate option price\n",
        "  def monte_carlo_call_option_simulation(self):\n",
        "    option_data=np.zeros([self.iteration,2])\n",
        "    rand=np.random.normal(0,1,[1,self.iteration])#for brownian motion\n",
        "    stock_price=self.S0*np.exp(self.sigma*rand + self.T*(self.rf-0.5*self.sigma**2))\n",
        "    option_data[:,1]=stock_price-self.SP #max(0,S-SP)\n",
        "    average=np.sum(np.amax(option_data,axis=1))/float(self.iteration)\n",
        "    return np.exp(-1*self.rf*self.T)*average # discount factor\n",
        "\n",
        "  def monte_carlo_put_option_simulation(self):\n",
        "    option_data=np.zeros([self.iteration,2])\n",
        "    rand=np.random.normal(0,1,[1,self.iteration])\n",
        "    stock_price=(self.S0)*np.exp(self.sigma*rand + self.T*(self.rf-0.5*self.sigma**2))\n",
        "    option_data[:,1]=self.SP-stock_price\n",
        "\n",
        "    average=np.sum(np.amax(option_data,axis=1))/float(self.iteration)\n",
        "    return np.exp(-1*self.rf*self.T)*average\n",
        "# price prediction using black-scholes formula\n",
        "  def black_scholes_call_option_simulation(self):\n",
        "    d1=np.log(self.S0/self.SP)+(self.rf+0.5*self.sigma**2)*self.T\n",
        "    d2=d1-self.sigma*(self.T**0.5)\n",
        "    stock_price=self.S0* norm.cdf(d1)-self.SP*np.exp(-1*self.rf*self.T)*norm.cdf(d2)\n",
        "    return stock_price\n",
        "  def black_scholes_put_option_simulation(self):\n",
        "    d1=np.log(self.S0/self.SP)+(self.rf+0.5*self.sigma**2)*self.T\n",
        "    d2=d1-self.sigma*(self.T**0.5)\n",
        "    stock_price=self.SP*np.exp(-1*self.rf*self.T)* norm.cdf(-1*d2)-self.S0*norm.cdf(-1*d1)\n",
        "    return stock_price\n",
        "\n",
        "if __name__ ==\"__main__\":\n",
        "  S0=100\n",
        "  SP=102\n",
        "  T=1\n",
        "  rf=0.05  #5%\n",
        "  sigma=0.2\n",
        "  iteration=10000000\n",
        "  model=OptionPricing(S0,SP,T,rf,sigma,iteration)\n",
        "  print(\"call option price with blach- scholes approach\", model.black_scholes_call_option_simulation())\n",
        "  print(\"put option price with black-scholes approach\" , model.black_scholes_put_option_simulation(),\"\\n\")\n",
        "\n",
        "  print(\"call option price with monte-carlo approach\", model.monte_carlo_call_option_simulation())\n",
        "  print(\"put option price with montecarlo approach\" , model.monte_carlo_put_option_simulation())\n",
        "\n",
        "\n",
        "\n",
        "\n",
        "\n"
      ],
      "metadata": {
        "colab": {
          "base_uri": "https://localhost:8080/"
        },
        "id": "seBZige066X2",
        "outputId": "028690c0-3589-4da7-d385-877f5933fd78"
      },
      "execution_count": 32,
      "outputs": [
        {
          "output_type": "stream",
          "name": "stdout",
          "text": [
            "call option price with blach- scholes approach 9.265920161089767\n",
            "put option price with black-scholes approach 6.291321460162592 \n",
            "\n",
            "call option price with monte-carlo approach 9.424825896985535\n",
            "put option price with montecarlo approach 6.445979103562522\n"
          ]
        }
      ]
    }
  ]
}